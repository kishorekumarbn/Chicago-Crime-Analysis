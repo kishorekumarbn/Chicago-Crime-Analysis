{
 "cells": [
  {
   "cell_type": "code",
   "execution_count": 5,
   "metadata": {},
   "outputs": [
    {
     "name": "stdout",
     "output_type": "stream",
     "text": [
      "Collecting openpyxlNote: you may need to restart the kernel to use updated packages.\n",
      "\n",
      "  Downloading openpyxl-3.1.5-py2.py3-none-any.whl.metadata (2.5 kB)\n",
      "Collecting et-xmlfile (from openpyxl)\n",
      "  Downloading et_xmlfile-2.0.0-py3-none-any.whl.metadata (2.7 kB)\n",
      "Downloading openpyxl-3.1.5-py2.py3-none-any.whl (250 kB)\n",
      "Downloading et_xmlfile-2.0.0-py3-none-any.whl (18 kB)\n",
      "Installing collected packages: et-xmlfile, openpyxl\n",
      "Successfully installed et-xmlfile-2.0.0 openpyxl-3.1.5\n"
     ]
    },
    {
     "name": "stderr",
     "output_type": "stream",
     "text": [
      "\n",
      "[notice] A new release of pip is available: 24.2 -> 24.3.1\n",
      "[notice] To update, run: python.exe -m pip install --upgrade pip\n"
     ]
    }
   ],
   "source": [
    "pip install openpyxl"
   ]
  },
  {
   "cell_type": "code",
   "execution_count": 1,
   "metadata": {},
   "outputs": [],
   "source": [
    "import pandas as pd\n",
    "import numpy as np"
   ]
  },
  {
   "cell_type": "code",
   "execution_count": 2,
   "metadata": {},
   "outputs": [
    {
     "data": {
      "text/html": [
       "<div>\n",
       "<style scoped>\n",
       "    .dataframe tbody tr th:only-of-type {\n",
       "        vertical-align: middle;\n",
       "    }\n",
       "\n",
       "    .dataframe tbody tr th {\n",
       "        vertical-align: top;\n",
       "    }\n",
       "\n",
       "    .dataframe thead th {\n",
       "        text-align: right;\n",
       "    }\n",
       "</style>\n",
       "<table border=\"1\" class=\"dataframe\">\n",
       "  <thead>\n",
       "    <tr style=\"text-align: right;\">\n",
       "      <th></th>\n",
       "      <th>ID</th>\n",
       "      <th>Case Number</th>\n",
       "      <th>Date</th>\n",
       "      <th>Block</th>\n",
       "      <th>IUCR</th>\n",
       "      <th>Primary Type</th>\n",
       "      <th>Description</th>\n",
       "      <th>Location Description</th>\n",
       "      <th>Arrest</th>\n",
       "      <th>Domestic</th>\n",
       "      <th>...</th>\n",
       "      <th>Ward</th>\n",
       "      <th>Community Area</th>\n",
       "      <th>FBI Code</th>\n",
       "      <th>X Coordinate</th>\n",
       "      <th>Y Coordinate</th>\n",
       "      <th>Year</th>\n",
       "      <th>Updated On</th>\n",
       "      <th>Latitude</th>\n",
       "      <th>Longitude</th>\n",
       "      <th>Location</th>\n",
       "    </tr>\n",
       "  </thead>\n",
       "  <tbody>\n",
       "    <tr>\n",
       "      <th>0</th>\n",
       "      <td>5741943</td>\n",
       "      <td>HN549294</td>\n",
       "      <td>2007-08-25 09:22:18</td>\n",
       "      <td>074XX N ROGERS AVE</td>\n",
       "      <td>560</td>\n",
       "      <td>ASSAULT</td>\n",
       "      <td>SIMPLE</td>\n",
       "      <td>OTHER</td>\n",
       "      <td>False</td>\n",
       "      <td>False</td>\n",
       "      <td>...</td>\n",
       "      <td>49.0</td>\n",
       "      <td>1.0</td>\n",
       "      <td>08A</td>\n",
       "      <td>NaN</td>\n",
       "      <td>NaN</td>\n",
       "      <td>2007</td>\n",
       "      <td>2015-08-17 15:03:40</td>\n",
       "      <td>NaN</td>\n",
       "      <td>NaN</td>\n",
       "      <td>NaN</td>\n",
       "    </tr>\n",
       "    <tr>\n",
       "      <th>1</th>\n",
       "      <td>25953</td>\n",
       "      <td>JE240540</td>\n",
       "      <td>2021-05-24 15:06:00</td>\n",
       "      <td>020XX N LARAMIE AVE</td>\n",
       "      <td>110</td>\n",
       "      <td>HOMICIDE</td>\n",
       "      <td>FIRST DEGREE MURDER</td>\n",
       "      <td>STREET</td>\n",
       "      <td>True</td>\n",
       "      <td>False</td>\n",
       "      <td>...</td>\n",
       "      <td>36.0</td>\n",
       "      <td>19.0</td>\n",
       "      <td>01A</td>\n",
       "      <td>1141387.0</td>\n",
       "      <td>1913179.0</td>\n",
       "      <td>2021</td>\n",
       "      <td>2023-11-18 15:39:49</td>\n",
       "      <td>41.917838</td>\n",
       "      <td>-87.755969</td>\n",
       "      <td>(41.917838056, -87.755968972)</td>\n",
       "    </tr>\n",
       "    <tr>\n",
       "      <th>2</th>\n",
       "      <td>26038</td>\n",
       "      <td>JE279849</td>\n",
       "      <td>2021-06-26 09:24:00</td>\n",
       "      <td>062XX N MC CORMICK RD</td>\n",
       "      <td>110</td>\n",
       "      <td>HOMICIDE</td>\n",
       "      <td>FIRST DEGREE MURDER</td>\n",
       "      <td>PARKING LOT</td>\n",
       "      <td>True</td>\n",
       "      <td>False</td>\n",
       "      <td>...</td>\n",
       "      <td>50.0</td>\n",
       "      <td>13.0</td>\n",
       "      <td>01A</td>\n",
       "      <td>1152781.0</td>\n",
       "      <td>1941458.0</td>\n",
       "      <td>2021</td>\n",
       "      <td>2023-11-18 15:39:49</td>\n",
       "      <td>41.995219</td>\n",
       "      <td>-87.713355</td>\n",
       "      <td>(41.995219444, -87.713354912)</td>\n",
       "    </tr>\n",
       "    <tr>\n",
       "      <th>3</th>\n",
       "      <td>13279676</td>\n",
       "      <td>JG507211</td>\n",
       "      <td>2023-11-09 07:30:00</td>\n",
       "      <td>019XX W BYRON ST</td>\n",
       "      <td>620</td>\n",
       "      <td>BURGLARY</td>\n",
       "      <td>UNLAWFUL ENTRY</td>\n",
       "      <td>APARTMENT</td>\n",
       "      <td>False</td>\n",
       "      <td>False</td>\n",
       "      <td>...</td>\n",
       "      <td>47.0</td>\n",
       "      <td>5.0</td>\n",
       "      <td>5</td>\n",
       "      <td>1162518.0</td>\n",
       "      <td>1925906.0</td>\n",
       "      <td>2023</td>\n",
       "      <td>2023-11-18 15:39:49</td>\n",
       "      <td>41.952345</td>\n",
       "      <td>-87.677975</td>\n",
       "      <td>(41.952345086, -87.677975059)</td>\n",
       "    </tr>\n",
       "    <tr>\n",
       "      <th>4</th>\n",
       "      <td>13274752</td>\n",
       "      <td>JG501049</td>\n",
       "      <td>2023-11-12 07:59:00</td>\n",
       "      <td>086XX S COTTAGE GROVE AVE</td>\n",
       "      <td>454</td>\n",
       "      <td>BATTERY</td>\n",
       "      <td>AGGRAVATED P.O. - HANDS, FISTS, FEET, NO / MIN...</td>\n",
       "      <td>SMALL RETAIL STORE</td>\n",
       "      <td>True</td>\n",
       "      <td>False</td>\n",
       "      <td>...</td>\n",
       "      <td>6.0</td>\n",
       "      <td>44.0</td>\n",
       "      <td>08B</td>\n",
       "      <td>1183071.0</td>\n",
       "      <td>1847869.0</td>\n",
       "      <td>2023</td>\n",
       "      <td>2023-12-09 15:41:24</td>\n",
       "      <td>41.737751</td>\n",
       "      <td>-87.604856</td>\n",
       "      <td>(41.737750767, -87.604855911)</td>\n",
       "    </tr>\n",
       "  </tbody>\n",
       "</table>\n",
       "<p>5 rows × 22 columns</p>\n",
       "</div>"
      ],
      "text/plain": [
       "         ID Case Number                Date                      Block IUCR  \\\n",
       "0   5741943    HN549294 2007-08-25 09:22:18         074XX N ROGERS AVE  560   \n",
       "1     25953    JE240540 2021-05-24 15:06:00        020XX N LARAMIE AVE  110   \n",
       "2     26038    JE279849 2021-06-26 09:24:00      062XX N MC CORMICK RD  110   \n",
       "3  13279676    JG507211 2023-11-09 07:30:00           019XX W BYRON ST  620   \n",
       "4  13274752    JG501049 2023-11-12 07:59:00  086XX S COTTAGE GROVE AVE  454   \n",
       "\n",
       "  Primary Type                                        Description  \\\n",
       "0      ASSAULT                                             SIMPLE   \n",
       "1     HOMICIDE                                FIRST DEGREE MURDER   \n",
       "2     HOMICIDE                                FIRST DEGREE MURDER   \n",
       "3     BURGLARY                                     UNLAWFUL ENTRY   \n",
       "4      BATTERY  AGGRAVATED P.O. - HANDS, FISTS, FEET, NO / MIN...   \n",
       "\n",
       "  Location Description  Arrest  Domestic  ...  Ward  Community Area  FBI Code  \\\n",
       "0                OTHER   False     False  ...  49.0             1.0       08A   \n",
       "1               STREET    True     False  ...  36.0            19.0       01A   \n",
       "2          PARKING LOT    True     False  ...  50.0            13.0       01A   \n",
       "3            APARTMENT   False     False  ...  47.0             5.0         5   \n",
       "4   SMALL RETAIL STORE    True     False  ...   6.0            44.0       08B   \n",
       "\n",
       "   X Coordinate Y Coordinate  Year          Updated On   Latitude  Longitude  \\\n",
       "0           NaN          NaN  2007 2015-08-17 15:03:40        NaN        NaN   \n",
       "1     1141387.0    1913179.0  2021 2023-11-18 15:39:49  41.917838 -87.755969   \n",
       "2     1152781.0    1941458.0  2021 2023-11-18 15:39:49  41.995219 -87.713355   \n",
       "3     1162518.0    1925906.0  2023 2023-11-18 15:39:49  41.952345 -87.677975   \n",
       "4     1183071.0    1847869.0  2023 2023-12-09 15:41:24  41.737751 -87.604856   \n",
       "\n",
       "                        Location  \n",
       "0                            NaN  \n",
       "1  (41.917838056, -87.755968972)  \n",
       "2  (41.995219444, -87.713354912)  \n",
       "3  (41.952345086, -87.677975059)  \n",
       "4  (41.737750767, -87.604855911)  \n",
       "\n",
       "[5 rows x 22 columns]"
      ]
     },
     "execution_count": 2,
     "metadata": {},
     "output_type": "execute_result"
    }
   ],
   "source": [
    "df=pd.read_excel(r\"C:\\Users\\KISHORE\\Desktop\\CHICAGO\\Crime_Data.xlsx\")\n",
    "df.head()"
   ]
  },
  {
   "cell_type": "code",
   "execution_count": 3,
   "metadata": {},
   "outputs": [
    {
     "data": {
      "text/plain": [
       "(549999, 22)"
      ]
     },
     "execution_count": 3,
     "metadata": {},
     "output_type": "execute_result"
    }
   ],
   "source": [
    "df.shape"
   ]
  },
  {
   "cell_type": "code",
   "execution_count": 4,
   "metadata": {},
   "outputs": [],
   "source": [
    "df=df.drop(['ID', 'Case Number', 'X Coordinate', 'Y Coordinate','Location'],axis=1)"
   ]
  },
  {
   "cell_type": "code",
   "execution_count": 5,
   "metadata": {},
   "outputs": [
    {
     "data": {
      "text/plain": [
       "Date                         0\n",
       "Block                        0\n",
       "IUCR                         0\n",
       "Primary Type                 0\n",
       "Description                  0\n",
       "Location Description      1673\n",
       "Arrest                       0\n",
       "Domestic                     0\n",
       "Beat                         0\n",
       "District                     0\n",
       "Ward                    336325\n",
       "Community Area          334906\n",
       "FBI Code                     0\n",
       "Year                         0\n",
       "Updated On                   0\n",
       "Latitude                  6912\n",
       "Longitude                 6912\n",
       "dtype: int64"
      ]
     },
     "execution_count": 5,
     "metadata": {},
     "output_type": "execute_result"
    }
   ],
   "source": [
    "df.isnull().sum()"
   ]
  },
  {
   "cell_type": "code",
   "execution_count": 6,
   "metadata": {},
   "outputs": [],
   "source": [
    "df=df.drop_duplicates()"
   ]
  },
  {
   "cell_type": "code",
   "execution_count": 8,
   "metadata": {},
   "outputs": [
    {
     "name": "stdout",
     "output_type": "stream",
     "text": [
      "<class 'pandas.core.frame.DataFrame'>\n",
      "Index: 548917 entries, 0 to 549998\n",
      "Data columns (total 17 columns):\n",
      " #   Column                Non-Null Count   Dtype         \n",
      "---  ------                --------------   -----         \n",
      " 0   Date                  548917 non-null  datetime64[ns]\n",
      " 1   Block                 548917 non-null  object        \n",
      " 2   IUCR                  548917 non-null  object        \n",
      " 3   Primary Type          548917 non-null  object        \n",
      " 4   Description           548917 non-null  object        \n",
      " 5   Location Description  547247 non-null  object        \n",
      " 6   Arrest                548917 non-null  bool          \n",
      " 7   Domestic              548917 non-null  bool          \n",
      " 8   Beat                  548917 non-null  int64         \n",
      " 9   District              548917 non-null  int64         \n",
      " 10  Ward                  213216 non-null  float64       \n",
      " 11  Community Area        214619 non-null  float64       \n",
      " 12  FBI Code              548917 non-null  object        \n",
      " 13  Year                  548917 non-null  int64         \n",
      " 14  Updated On            548917 non-null  datetime64[ns]\n",
      " 15  Latitude              542014 non-null  float64       \n",
      " 16  Longitude             542014 non-null  float64       \n",
      "dtypes: bool(2), datetime64[ns](2), float64(4), int64(3), object(6)\n",
      "memory usage: 68.1+ MB\n"
     ]
    }
   ],
   "source": [
    "df.info()"
   ]
  },
  {
   "cell_type": "code",
   "execution_count": 11,
   "metadata": {},
   "outputs": [
    {
     "data": {
      "text/html": [
       "<div>\n",
       "<style scoped>\n",
       "    .dataframe tbody tr th:only-of-type {\n",
       "        vertical-align: middle;\n",
       "    }\n",
       "\n",
       "    .dataframe tbody tr th {\n",
       "        vertical-align: top;\n",
       "    }\n",
       "\n",
       "    .dataframe thead th {\n",
       "        text-align: right;\n",
       "    }\n",
       "</style>\n",
       "<table border=\"1\" class=\"dataframe\">\n",
       "  <thead>\n",
       "    <tr style=\"text-align: right;\">\n",
       "      <th></th>\n",
       "      <th>Date</th>\n",
       "      <th>Block</th>\n",
       "      <th>IUCR</th>\n",
       "      <th>Primary Type</th>\n",
       "      <th>Description</th>\n",
       "      <th>Location Description</th>\n",
       "      <th>Arrest</th>\n",
       "      <th>Domestic</th>\n",
       "      <th>Beat</th>\n",
       "      <th>District</th>\n",
       "      <th>Ward</th>\n",
       "      <th>Community Area</th>\n",
       "      <th>FBI Code</th>\n",
       "      <th>Year</th>\n",
       "      <th>Updated On</th>\n",
       "      <th>Latitude</th>\n",
       "      <th>Longitude</th>\n",
       "    </tr>\n",
       "  </thead>\n",
       "  <tbody>\n",
       "    <tr>\n",
       "      <th>0</th>\n",
       "      <td>2007-08-25 09:22:18</td>\n",
       "      <td>074XX N ROGERS AVE</td>\n",
       "      <td>560</td>\n",
       "      <td>ASSAULT</td>\n",
       "      <td>SIMPLE</td>\n",
       "      <td>OTHER</td>\n",
       "      <td>0</td>\n",
       "      <td>0</td>\n",
       "      <td>2422</td>\n",
       "      <td>24</td>\n",
       "      <td>49.0</td>\n",
       "      <td>1.0</td>\n",
       "      <td>08A</td>\n",
       "      <td>2007</td>\n",
       "      <td>2015-08-17 15:03:40</td>\n",
       "      <td>NaN</td>\n",
       "      <td>NaN</td>\n",
       "    </tr>\n",
       "    <tr>\n",
       "      <th>1</th>\n",
       "      <td>2021-05-24 15:06:00</td>\n",
       "      <td>020XX N LARAMIE AVE</td>\n",
       "      <td>110</td>\n",
       "      <td>HOMICIDE</td>\n",
       "      <td>FIRST DEGREE MURDER</td>\n",
       "      <td>STREET</td>\n",
       "      <td>1</td>\n",
       "      <td>0</td>\n",
       "      <td>2515</td>\n",
       "      <td>25</td>\n",
       "      <td>36.0</td>\n",
       "      <td>19.0</td>\n",
       "      <td>01A</td>\n",
       "      <td>2021</td>\n",
       "      <td>2023-11-18 15:39:49</td>\n",
       "      <td>41.917838</td>\n",
       "      <td>-87.755969</td>\n",
       "    </tr>\n",
       "    <tr>\n",
       "      <th>2</th>\n",
       "      <td>2021-06-26 09:24:00</td>\n",
       "      <td>062XX N MC CORMICK RD</td>\n",
       "      <td>110</td>\n",
       "      <td>HOMICIDE</td>\n",
       "      <td>FIRST DEGREE MURDER</td>\n",
       "      <td>PARKING LOT</td>\n",
       "      <td>1</td>\n",
       "      <td>0</td>\n",
       "      <td>1711</td>\n",
       "      <td>17</td>\n",
       "      <td>50.0</td>\n",
       "      <td>13.0</td>\n",
       "      <td>01A</td>\n",
       "      <td>2021</td>\n",
       "      <td>2023-11-18 15:39:49</td>\n",
       "      <td>41.995219</td>\n",
       "      <td>-87.713355</td>\n",
       "    </tr>\n",
       "    <tr>\n",
       "      <th>3</th>\n",
       "      <td>2023-11-09 07:30:00</td>\n",
       "      <td>019XX W BYRON ST</td>\n",
       "      <td>620</td>\n",
       "      <td>BURGLARY</td>\n",
       "      <td>UNLAWFUL ENTRY</td>\n",
       "      <td>APARTMENT</td>\n",
       "      <td>0</td>\n",
       "      <td>0</td>\n",
       "      <td>1922</td>\n",
       "      <td>19</td>\n",
       "      <td>47.0</td>\n",
       "      <td>5.0</td>\n",
       "      <td>5</td>\n",
       "      <td>2023</td>\n",
       "      <td>2023-11-18 15:39:49</td>\n",
       "      <td>41.952345</td>\n",
       "      <td>-87.677975</td>\n",
       "    </tr>\n",
       "    <tr>\n",
       "      <th>4</th>\n",
       "      <td>2023-11-12 07:59:00</td>\n",
       "      <td>086XX S COTTAGE GROVE AVE</td>\n",
       "      <td>454</td>\n",
       "      <td>BATTERY</td>\n",
       "      <td>AGGRAVATED P.O. - HANDS, FISTS, FEET, NO / MIN...</td>\n",
       "      <td>SMALL RETAIL STORE</td>\n",
       "      <td>1</td>\n",
       "      <td>0</td>\n",
       "      <td>632</td>\n",
       "      <td>6</td>\n",
       "      <td>6.0</td>\n",
       "      <td>44.0</td>\n",
       "      <td>08B</td>\n",
       "      <td>2023</td>\n",
       "      <td>2023-12-09 15:41:24</td>\n",
       "      <td>41.737751</td>\n",
       "      <td>-87.604856</td>\n",
       "    </tr>\n",
       "  </tbody>\n",
       "</table>\n",
       "</div>"
      ],
      "text/plain": [
       "                 Date                      Block IUCR Primary Type  \\\n",
       "0 2007-08-25 09:22:18         074XX N ROGERS AVE  560      ASSAULT   \n",
       "1 2021-05-24 15:06:00        020XX N LARAMIE AVE  110     HOMICIDE   \n",
       "2 2021-06-26 09:24:00      062XX N MC CORMICK RD  110     HOMICIDE   \n",
       "3 2023-11-09 07:30:00           019XX W BYRON ST  620     BURGLARY   \n",
       "4 2023-11-12 07:59:00  086XX S COTTAGE GROVE AVE  454      BATTERY   \n",
       "\n",
       "                                         Description Location Description  \\\n",
       "0                                             SIMPLE                OTHER   \n",
       "1                                FIRST DEGREE MURDER               STREET   \n",
       "2                                FIRST DEGREE MURDER          PARKING LOT   \n",
       "3                                     UNLAWFUL ENTRY            APARTMENT   \n",
       "4  AGGRAVATED P.O. - HANDS, FISTS, FEET, NO / MIN...   SMALL RETAIL STORE   \n",
       "\n",
       "   Arrest  Domestic  Beat  District  Ward  Community Area FBI Code  Year  \\\n",
       "0       0         0  2422        24  49.0             1.0      08A  2007   \n",
       "1       1         0  2515        25  36.0            19.0      01A  2021   \n",
       "2       1         0  1711        17  50.0            13.0      01A  2021   \n",
       "3       0         0  1922        19  47.0             5.0        5  2023   \n",
       "4       1         0   632         6   6.0            44.0      08B  2023   \n",
       "\n",
       "           Updated On   Latitude  Longitude  \n",
       "0 2015-08-17 15:03:40        NaN        NaN  \n",
       "1 2023-11-18 15:39:49  41.917838 -87.755969  \n",
       "2 2023-11-18 15:39:49  41.995219 -87.713355  \n",
       "3 2023-11-18 15:39:49  41.952345 -87.677975  \n",
       "4 2023-12-09 15:41:24  41.737751 -87.604856  "
      ]
     },
     "execution_count": 11,
     "metadata": {},
     "output_type": "execute_result"
    }
   ],
   "source": [
    "df.head()"
   ]
  },
  {
   "cell_type": "code",
   "execution_count": 27,
   "metadata": {},
   "outputs": [],
   "source": [
    "df['Arrest'] = df['Arrest'].astype(bool)\n",
    "df['Domestic'] = df['Domestic'].astype(bool)"
   ]
  },
  {
   "cell_type": "code",
   "execution_count": 25,
   "metadata": {},
   "outputs": [
    {
     "data": {
      "text/plain": [
       "Date                       0\n",
       "Block                      0\n",
       "IUCR                       0\n",
       "Primary Type               0\n",
       "Description                0\n",
       "Location Description    1670\n",
       "Arrest                     0\n",
       "Domestic                   0\n",
       "Beat                       0\n",
       "District                   0\n",
       "FBI Code                   0\n",
       "Year                       0\n",
       "Updated On                 0\n",
       "Latitude                6903\n",
       "Longitude               6903\n",
       "Time                       0\n",
       "CDate                      0\n",
       "dtype: int64"
      ]
     },
     "execution_count": 25,
     "metadata": {},
     "output_type": "execute_result"
    }
   ],
   "source": [
    "df.isnull().sum()"
   ]
  },
  {
   "cell_type": "code",
   "execution_count": 16,
   "metadata": {},
   "outputs": [],
   "source": [
    "df['Time'] = df['Date'].dt.strftime('%H:%M:%S')\n",
    "df['CDate'] = df['Date'].dt.strftime('%d/%m/%Y')"
   ]
  },
  {
   "cell_type": "code",
   "execution_count": 50,
   "metadata": {},
   "outputs": [
    {
     "data": {
      "text/html": [
       "<div>\n",
       "<style scoped>\n",
       "    .dataframe tbody tr th:only-of-type {\n",
       "        vertical-align: middle;\n",
       "    }\n",
       "\n",
       "    .dataframe tbody tr th {\n",
       "        vertical-align: top;\n",
       "    }\n",
       "\n",
       "    .dataframe thead th {\n",
       "        text-align: right;\n",
       "    }\n",
       "</style>\n",
       "<table border=\"1\" class=\"dataframe\">\n",
       "  <thead>\n",
       "    <tr style=\"text-align: right;\">\n",
       "      <th></th>\n",
       "      <th>Date</th>\n",
       "      <th>Block</th>\n",
       "      <th>IUCR</th>\n",
       "      <th>Primary Type</th>\n",
       "      <th>Description</th>\n",
       "      <th>Location Description</th>\n",
       "      <th>Arrest</th>\n",
       "      <th>Domestic</th>\n",
       "      <th>Beat</th>\n",
       "      <th>District</th>\n",
       "      <th>FBI Code</th>\n",
       "      <th>Year</th>\n",
       "      <th>Updated On</th>\n",
       "      <th>Latitude</th>\n",
       "      <th>Longitude</th>\n",
       "      <th>CDate</th>\n",
       "      <th>Time</th>\n",
       "    </tr>\n",
       "  </thead>\n",
       "  <tbody>\n",
       "    <tr>\n",
       "      <th>0</th>\n",
       "      <td>2007-08-25 09:22:18</td>\n",
       "      <td>074XX N ROGERS AVE</td>\n",
       "      <td>560</td>\n",
       "      <td>ASSAULT</td>\n",
       "      <td>SIMPLE</td>\n",
       "      <td>OTHER</td>\n",
       "      <td>False</td>\n",
       "      <td>False</td>\n",
       "      <td>2422</td>\n",
       "      <td>24</td>\n",
       "      <td>08A</td>\n",
       "      <td>2007</td>\n",
       "      <td>2015-08-17 15:03:40</td>\n",
       "      <td>42.005582</td>\n",
       "      <td>-87.676580</td>\n",
       "      <td>2007-08-25</td>\n",
       "      <td>1900-01-01 09:22:18</td>\n",
       "    </tr>\n",
       "    <tr>\n",
       "      <th>1</th>\n",
       "      <td>2021-05-24 15:06:00</td>\n",
       "      <td>020XX N LARAMIE AVE</td>\n",
       "      <td>110</td>\n",
       "      <td>HOMICIDE</td>\n",
       "      <td>FIRST DEGREE MURDER</td>\n",
       "      <td>STREET</td>\n",
       "      <td>True</td>\n",
       "      <td>False</td>\n",
       "      <td>2515</td>\n",
       "      <td>25</td>\n",
       "      <td>01A</td>\n",
       "      <td>2021</td>\n",
       "      <td>2023-11-18 15:39:49</td>\n",
       "      <td>41.917838</td>\n",
       "      <td>-87.755969</td>\n",
       "      <td>2021-05-24</td>\n",
       "      <td>1900-01-01 15:06:00</td>\n",
       "    </tr>\n",
       "    <tr>\n",
       "      <th>2</th>\n",
       "      <td>2021-06-26 09:24:00</td>\n",
       "      <td>062XX N MC CORMICK RD</td>\n",
       "      <td>110</td>\n",
       "      <td>HOMICIDE</td>\n",
       "      <td>FIRST DEGREE MURDER</td>\n",
       "      <td>PARKING LOT</td>\n",
       "      <td>True</td>\n",
       "      <td>False</td>\n",
       "      <td>1711</td>\n",
       "      <td>17</td>\n",
       "      <td>01A</td>\n",
       "      <td>2021</td>\n",
       "      <td>2023-11-18 15:39:49</td>\n",
       "      <td>41.995219</td>\n",
       "      <td>-87.713355</td>\n",
       "      <td>2021-06-26</td>\n",
       "      <td>1900-01-01 09:24:00</td>\n",
       "    </tr>\n",
       "    <tr>\n",
       "      <th>3</th>\n",
       "      <td>2023-11-09 07:30:00</td>\n",
       "      <td>019XX W BYRON ST</td>\n",
       "      <td>620</td>\n",
       "      <td>BURGLARY</td>\n",
       "      <td>UNLAWFUL ENTRY</td>\n",
       "      <td>APARTMENT</td>\n",
       "      <td>False</td>\n",
       "      <td>False</td>\n",
       "      <td>1922</td>\n",
       "      <td>19</td>\n",
       "      <td>5</td>\n",
       "      <td>2023</td>\n",
       "      <td>2023-11-18 15:39:49</td>\n",
       "      <td>41.952345</td>\n",
       "      <td>-87.677975</td>\n",
       "      <td>2023-11-09</td>\n",
       "      <td>1900-01-01 07:30:00</td>\n",
       "    </tr>\n",
       "    <tr>\n",
       "      <th>4</th>\n",
       "      <td>2023-11-12 07:59:00</td>\n",
       "      <td>086XX S COTTAGE GROVE AVE</td>\n",
       "      <td>454</td>\n",
       "      <td>BATTERY</td>\n",
       "      <td>AGGRAVATED P.O. - HANDS, FISTS, FEET, NO / MIN...</td>\n",
       "      <td>SMALL RETAIL STORE</td>\n",
       "      <td>True</td>\n",
       "      <td>False</td>\n",
       "      <td>632</td>\n",
       "      <td>6</td>\n",
       "      <td>08B</td>\n",
       "      <td>2023</td>\n",
       "      <td>2023-12-09 15:41:24</td>\n",
       "      <td>41.737751</td>\n",
       "      <td>-87.604856</td>\n",
       "      <td>2023-11-12</td>\n",
       "      <td>1900-01-01 07:59:00</td>\n",
       "    </tr>\n",
       "  </tbody>\n",
       "</table>\n",
       "</div>"
      ],
      "text/plain": [
       "                 Date                      Block IUCR Primary Type  \\\n",
       "0 2007-08-25 09:22:18         074XX N ROGERS AVE  560      ASSAULT   \n",
       "1 2021-05-24 15:06:00        020XX N LARAMIE AVE  110     HOMICIDE   \n",
       "2 2021-06-26 09:24:00      062XX N MC CORMICK RD  110     HOMICIDE   \n",
       "3 2023-11-09 07:30:00           019XX W BYRON ST  620     BURGLARY   \n",
       "4 2023-11-12 07:59:00  086XX S COTTAGE GROVE AVE  454      BATTERY   \n",
       "\n",
       "                                         Description Location Description  \\\n",
       "0                                             SIMPLE                OTHER   \n",
       "1                                FIRST DEGREE MURDER               STREET   \n",
       "2                                FIRST DEGREE MURDER          PARKING LOT   \n",
       "3                                     UNLAWFUL ENTRY            APARTMENT   \n",
       "4  AGGRAVATED P.O. - HANDS, FISTS, FEET, NO / MIN...   SMALL RETAIL STORE   \n",
       "\n",
       "   Arrest  Domestic  Beat  District FBI Code  Year          Updated On  \\\n",
       "0   False     False  2422        24      08A  2007 2015-08-17 15:03:40   \n",
       "1    True     False  2515        25      01A  2021 2023-11-18 15:39:49   \n",
       "2    True     False  1711        17      01A  2021 2023-11-18 15:39:49   \n",
       "3   False     False  1922        19        5  2023 2023-11-18 15:39:49   \n",
       "4    True     False   632         6      08B  2023 2023-12-09 15:41:24   \n",
       "\n",
       "    Latitude  Longitude      CDate                Time  \n",
       "0  42.005582 -87.676580 2007-08-25 1900-01-01 09:22:18  \n",
       "1  41.917838 -87.755969 2021-05-24 1900-01-01 15:06:00  \n",
       "2  41.995219 -87.713355 2021-06-26 1900-01-01 09:24:00  \n",
       "3  41.952345 -87.677975 2023-11-09 1900-01-01 07:30:00  \n",
       "4  41.737751 -87.604856 2023-11-12 1900-01-01 07:59:00  "
      ]
     },
     "execution_count": 50,
     "metadata": {},
     "output_type": "execute_result"
    }
   ],
   "source": [
    "df.head()"
   ]
  },
  {
   "cell_type": "code",
   "execution_count": 21,
   "metadata": {},
   "outputs": [
    {
     "data": {
      "text/plain": [
       "(548917, 19)"
      ]
     },
     "execution_count": 21,
     "metadata": {},
     "output_type": "execute_result"
    }
   ],
   "source": [
    "df.shape"
   ]
  },
  {
   "cell_type": "code",
   "execution_count": 37,
   "metadata": {},
   "outputs": [
    {
     "name": "stdout",
     "output_type": "stream",
     "text": [
      "<class 'pandas.core.frame.DataFrame'>\n",
      "Index: 548917 entries, 0 to 549998\n",
      "Data columns (total 17 columns):\n",
      " #   Column                Non-Null Count   Dtype         \n",
      "---  ------                --------------   -----         \n",
      " 0   Date                  548917 non-null  datetime64[ns]\n",
      " 1   Block                 548917 non-null  object        \n",
      " 2   IUCR                  548917 non-null  object        \n",
      " 3   Primary Type          548917 non-null  object        \n",
      " 4   Description           548917 non-null  object        \n",
      " 5   Location Description  547247 non-null  object        \n",
      " 6   Arrest                548917 non-null  bool          \n",
      " 7   Domestic              548917 non-null  bool          \n",
      " 8   Beat                  548917 non-null  int64         \n",
      " 9   District              548917 non-null  int64         \n",
      " 10  FBI Code              548917 non-null  object        \n",
      " 11  Year                  548917 non-null  int64         \n",
      " 12  Updated On            548917 non-null  datetime64[ns]\n",
      " 13  Latitude              548917 non-null  float64       \n",
      " 14  Longitude             548917 non-null  float64       \n",
      " 15  Time                  548917 non-null  object        \n",
      " 16  CDate                 548917 non-null  object        \n",
      "dtypes: bool(2), datetime64[ns](2), float64(2), int64(3), object(8)\n",
      "memory usage: 68.1+ MB\n"
     ]
    }
   ],
   "source": [
    "df.info()"
   ]
  },
  {
   "cell_type": "code",
   "execution_count": 24,
   "metadata": {},
   "outputs": [],
   "source": [
    "df=df.drop([\"Community Area\",\"Ward\"],axis=1)"
   ]
  },
  {
   "cell_type": "code",
   "execution_count": 29,
   "metadata": {},
   "outputs": [],
   "source": [
    "df['Latitude'] = df.groupby('District')['Latitude'].transform(lambda x: x.fillna(x.mean()))\n",
    "df['Longitude'] = df.groupby('District')['Longitude'].transform(lambda x: x.fillna(x.mean()))\n"
   ]
  },
  {
   "cell_type": "code",
   "execution_count": 58,
   "metadata": {},
   "outputs": [
    {
     "data": {
      "text/plain": [
       "Date                    0\n",
       "Block                   0\n",
       "IUCR                    0\n",
       "Primary Type            0\n",
       "Description             0\n",
       "Location Description    0\n",
       "Arrest                  0\n",
       "Domestic                0\n",
       "Beat                    0\n",
       "District                0\n",
       "FBI Code                0\n",
       "Year                    0\n",
       "Updated On              0\n",
       "Latitude                0\n",
       "Longitude               0\n",
       "CDate                   0\n",
       "Time                    0\n",
       "dtype: int64"
      ]
     },
     "execution_count": 58,
     "metadata": {},
     "output_type": "execute_result"
    }
   ],
   "source": [
    "df.isnull().sum()"
   ]
  },
  {
   "cell_type": "code",
   "execution_count": 38,
   "metadata": {},
   "outputs": [],
   "source": [
    "df.drop(columns=[\"CDate\", \"Time\"], inplace=True)\n"
   ]
  },
  {
   "cell_type": "code",
   "execution_count": 46,
   "metadata": {},
   "outputs": [],
   "source": [
    "df[\"CDate\"] = pd.to_datetime(df[\"Date\"]).dt.date\n",
    "df[\"CDate\"] = pd.to_datetime(df[\"CDate\"])\n",
    "\n",
    "df[\"Time\"] = pd.to_datetime(df[\"Date\"]).dt.time\n",
    "df[\"Time\"] = pd.to_datetime(df[\"Date\"]).dt.strftime('%H:%M:%S')"
   ]
  },
  {
   "cell_type": "code",
   "execution_count": 48,
   "metadata": {},
   "outputs": [],
   "source": [
    "df[\"Time\"] = pd.to_datetime(df[\"Time\"].astype(str), format='%H:%M:%S')"
   ]
  },
  {
   "cell_type": "code",
   "execution_count": 57,
   "metadata": {},
   "outputs": [
    {
     "name": "stdout",
     "output_type": "stream",
     "text": [
      "<class 'pandas.core.frame.DataFrame'>\n",
      "Index: 548917 entries, 0 to 549998\n",
      "Data columns (total 17 columns):\n",
      " #   Column                Non-Null Count   Dtype         \n",
      "---  ------                --------------   -----         \n",
      " 0   Date                  548917 non-null  datetime64[ns]\n",
      " 1   Block                 548917 non-null  object        \n",
      " 2   IUCR                  548917 non-null  object        \n",
      " 3   Primary Type          548917 non-null  object        \n",
      " 4   Description           548917 non-null  object        \n",
      " 5   Location Description  548917 non-null  object        \n",
      " 6   Arrest                548917 non-null  bool          \n",
      " 7   Domestic              548917 non-null  bool          \n",
      " 8   Beat                  548917 non-null  int64         \n",
      " 9   District              548917 non-null  int64         \n",
      " 10  FBI Code              548917 non-null  object        \n",
      " 11  Year                  548917 non-null  int64         \n",
      " 12  Updated On            548917 non-null  datetime64[ns]\n",
      " 13  Latitude              548917 non-null  float64       \n",
      " 14  Longitude             548917 non-null  float64       \n",
      " 15  CDate                 548917 non-null  datetime64[ns]\n",
      " 16  Time                  548917 non-null  datetime64[ns]\n",
      "dtypes: bool(2), datetime64[ns](4), float64(2), int64(3), object(6)\n",
      "memory usage: 68.1+ MB\n"
     ]
    }
   ],
   "source": [
    "df.info()"
   ]
  },
  {
   "cell_type": "code",
   "execution_count": 56,
   "metadata": {},
   "outputs": [],
   "source": [
    "overall_mode = df['Location Description'].mode()[0]\n",
    "\n",
    "df['Location Description'] = df.groupby('Description')['Location Description'].transform(\n",
    "    lambda x: x.fillna(x.mode()[0] if not x.mode().empty else overall_mode)\n",
    ")"
   ]
  },
  {
   "cell_type": "code",
   "execution_count": 59,
   "metadata": {},
   "outputs": [],
   "source": [
    "#Save\n",
    "df.to_csv(r'C:\\Users\\KISHORE\\Desktop\\CHICAGO\\cleaned_data.csv', index=False)\n"
   ]
  },
  {
   "cell_type": "code",
   "execution_count": 60,
   "metadata": {},
   "outputs": [
    {
     "data": {
      "text/plain": [
       "(548917, 17)"
      ]
     },
     "execution_count": 60,
     "metadata": {},
     "output_type": "execute_result"
    }
   ],
   "source": [
    "df.shape"
   ]
  }
 ],
 "metadata": {
  "kernelspec": {
   "display_name": "Python 3",
   "language": "python",
   "name": "python3"
  },
  "language_info": {
   "codemirror_mode": {
    "name": "ipython",
    "version": 3
   },
   "file_extension": ".py",
   "mimetype": "text/x-python",
   "name": "python",
   "nbconvert_exporter": "python",
   "pygments_lexer": "ipython3",
   "version": "3.13.0"
  }
 },
 "nbformat": 4,
 "nbformat_minor": 2
}
